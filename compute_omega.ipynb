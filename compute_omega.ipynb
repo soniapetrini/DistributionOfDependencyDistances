{
 "cells": [
  {
   "cell_type": "code",
   "execution_count": 1,
   "metadata": {},
   "outputs": [],
   "source": [
    "import lal"
   ]
  },
  {
   "cell_type": "code",
   "execution_count": 4,
   "metadata": {},
   "outputs": [
    {
     "name": "stdout",
     "output_type": "stream",
     "text": [
      "Processing collection...\n",
      "\n",
      "Processing collection...\n",
      "\n"
     ]
    }
   ],
   "source": [
    "for coll in ['pud26','psud26']:\n",
    "    \n",
    "\tmain_file = f'collections/{coll}_list.txt'\n",
    "\n",
    "\ttbcolproc = lal.io.treebank_collection_processor()\n",
    "\terr = tbcolproc.init(main_file, \"results/real/omega\")\n",
    "\n",
    "\tif err == lal.io.treebank_error_type.no_error:\n",
    "\t\ttbcolproc.set_number_threads(6)\n",
    "\t\ttbcolproc.clear_features()\n",
    "\t\ttbcolproc.add_feature( lal.io.treebank_feature.num_nodes )\n",
    "\t\ttbcolproc.add_feature( lal.io.treebank_feature.sum_edge_lengths )\n",
    "\t\ttbcolproc.add_feature( lal.io.treebank_feature.min_sum_edge_lengths )\n",
    "\t\ttbcolproc.add_feature( lal.io.treebank_feature.exp_sum_edge_lengths )\n",
    "\t\t\n",
    "\t\ttbcolproc.set_column_name( lal.io.treebank_feature.num_nodes, \"n\" )\n",
    "\t\ttbcolproc.set_column_name( lal.io.treebank_feature.sum_edge_lengths, \"D\" )\n",
    "\t\ttbcolproc.set_column_name( lal.io.treebank_feature.min_sum_edge_lengths, \"Dmin\" )\n",
    "\t\ttbcolproc.set_column_name( lal.io.treebank_feature.exp_sum_edge_lengths, \"Drla\" )\n",
    "\t\t\n",
    "\t\tprint(\"Processing collection...\")\n",
    "\t\terr = tbcolproc.process()\n",
    "\n",
    "\tprint(err)"
   ]
  }
 ],
 "metadata": {
  "kernelspec": {
   "display_name": "Python 3.8.8 ('base')",
   "language": "python",
   "name": "python3"
  },
  "language_info": {
   "codemirror_mode": {
    "name": "ipython",
    "version": 3
   },
   "file_extension": ".py",
   "mimetype": "text/x-python",
   "name": "python",
   "nbconvert_exporter": "python",
   "pygments_lexer": "ipython3",
   "version": "3.8.8"
  },
  "orig_nbformat": 4,
  "vscode": {
   "interpreter": {
    "hash": "90a0f26ab5e361e9bf8ebc89f017b8acb6dc036ef7070e8556f504ff8ce2a2a1"
   }
  }
 },
 "nbformat": 4,
 "nbformat_minor": 2
}
