{
 "cells": [
  {
   "attachments": {},
   "cell_type": "markdown",
   "metadata": {},
   "source": [
    "## Generate all Combiantions"
   ]
  },
  {
   "cell_type": "code",
   "execution_count": 6,
   "metadata": {},
   "outputs": [],
   "source": [
    "import lal"
   ]
  },
  {
   "cell_type": "code",
   "execution_count": 2,
   "metadata": {},
   "outputs": [
    {
     "name": "stdout",
     "output_type": "stream",
     "text": [
      "\u001b[0;31mSignature:\u001b[0m \u001b[0mlal\u001b[0m\u001b[0;34m.\u001b[0m\u001b[0mlinarr\u001b[0m\u001b[0;34m.\u001b[0m\u001b[0mchunk_syntactic_dependency_tree\u001b[0m\u001b[0;34m(\u001b[0m\u001b[0;34m*\u001b[0m\u001b[0margs\u001b[0m\u001b[0;34m)\u001b[0m \u001b[0;34m->\u001b[0m \u001b[0;34m'lal::graphs::rooted_tree'\u001b[0m\u001b[0;34m\u001b[0m\u001b[0;34m\u001b[0m\u001b[0m\n",
      "\u001b[0;31mDocstring:\u001b[0m\n",
      "Overloaded function\n",
      "-------------------\n",
      "* `chunk_syntactic_dependency_tree(rt, algo)`  \n",
      "    lal::linarr::chunk_syntactic_dependency_tree\n",
      "    Chunks a syntactic dependency tree according to the algorithm passed as\n",
      "    parameter.  \n",
      "\n",
      "    This function assumes the identity arrangement to chunk this tree.  \n",
      "\n",
      "    Parameters:\n",
      "\n",
      "\n",
      "    * `rt` :  \n",
      "        Input syntactic dependency tree.  \n",
      "    * `algo` :  \n",
      "        Algorithm of choice.  \n",
      "\n",
      "    Returns:\n",
      "    A syntactic dependency tree result of the chosen chunking algorithm.  \n",
      "\n",
      "* `chunk_syntactic_dependency_tree(rt, arr, algo)`  \n",
      "    lal::linarr::chunk_syntactic_dependency_tree\n",
      "    Chunks a syntactic dependency tree according to the algorithm passed as\n",
      "    parameter.  \n",
      "\n",
      "    Parameters:\n",
      "\n",
      "\n",
      "    * `rt` :  \n",
      "        Input syntactic dependency tree.  \n",
      "    * `arr` :  \n",
      "        Non-empty input linear arrangement.  \n",
      "    * `algo` :  \n",
      "        Algorithm of choice.  \n",
      "\n",
      "    Returns:\n",
      "    A syntactic dependency tree result of the chosen chunking algorithm.  \n",
      "\u001b[0;31mFile:\u001b[0m      ~/opt/anaconda3/lib/python3.8/site-packages/lal/linarr.py\n",
      "\u001b[0;31mType:\u001b[0m      function\n"
     ]
    }
   ],
   "source": [
    "rt = lal.graphs.from_head_vector_to_rooted_tree(heads)\n",
    "lal.linarr.chunk_syntactic_dependency_tree(rt, chunk_type)"
   ]
  },
  {
   "cell_type": "code",
   "execution_count": 7,
   "metadata": {},
   "outputs": [],
   "source": [
    "def is_projective(rt):\n",
    "       if lal.linarr.num_crossings(rt) > 0: return False\n",
    "       r = rt.get_root()\n",
    "       edges = rt.get_edges()\n",
    "       root_covered = any([((u<r and r<v) or (v<r and r<u)) for (u,v) in edges])\n",
    "       return not root_covered"
   ]
  },
  {
   "attachments": {},
   "cell_type": "markdown",
   "metadata": {},
   "source": [
    "## Draw dependency graphs\n",
    "Print them to tex to show grouping in chunks"
   ]
  },
  {
   "cell_type": "code",
   "execution_count": 8,
   "metadata": {},
   "outputs": [],
   "source": [
    "import numpy as np\n",
    "import rpy2.robjects as ro"
   ]
  },
  {
   "cell_type": "code",
   "execution_count": 13,
   "metadata": {},
   "outputs": [],
   "source": [
    "# to call R function :)\n",
    "r = ro.r\n",
    "r['source']('code_chunks.R')\n",
    "assign_chunks_r = ro.globalenv['assign_chunks']"
   ]
  },
  {
   "cell_type": "code",
   "execution_count": 16,
   "metadata": {},
   "outputs": [],
   "source": [
    "# fixed rows\n",
    "fix_header_2 = r'\\begin{deptext}[column sep = .5cm]'\n",
    "fix_middle   = r'\\end{deptext}'\n",
    "fix_end      = r'\\end{dependency}'\n",
    "\n",
    "# variable rows\n",
    "def header_1(chunk_type): return r'\\begin{dependency}[theme = simple, group style =' + chunk_type + ']'\n",
    "\n",
    "def draw_labels(labels): return r' \\& '.join(str(el) for el in labels) + r' \\\\'\n",
    "\n",
    "def draw_group(start,end): return '\\wordgroup{1' + '}{' + str(start) + '}{' + str(end) + r'}{}' \n",
    "\n",
    "def draw_edge(head,dep): return '\\depedge{' + str(head) + '}{' + str(dep) + r'}{}'\n",
    "\n",
    "def draw_more_groups(memberships):\n",
    "    # create and concatenate groups from draw_group and memberships\n",
    "    groups = np.unique(memberships)\n",
    "    \n",
    "    start_end_pairs = []\n",
    "    for group in groups:\n",
    "        start = memberships.index(group) + 1\n",
    "        end = start + memberships.count(group) - 1\n",
    "        start_end_pairs.append(tuple((start,end)))\n",
    "\n",
    "    return '\\n'.join(draw_group(limits[0],limits[1]) for i,limits in enumerate(start_end_pairs))\n",
    "\n",
    "def draw_more_edges(heads):\n",
    "    # find root\n",
    "    root_pos = heads.index(0) + 1\n",
    "    root_tex = '\\deproot{' + str(root_pos) + r'}{}' \n",
    "\n",
    "    # find edges\n",
    "    head_dep_pairs = []\n",
    "    for i,head in enumerate(heads):\n",
    "        if head != 0:\n",
    "            dep = i + 1\n",
    "            head_dep_pairs.append(tuple((head,dep)))\n",
    "\n",
    "    edges_tex = '\\n'.join(draw_edge(edges[0],edges[1]) for i,edges in enumerate(head_dep_pairs))\n",
    "\n",
    "    return '\\n'.join([root_tex,edges_tex])\n",
    "\n",
    "def draw_graph(heads,labels,chunk_type):\n",
    "    var_header_1 = header_1(chunk_type)\n",
    "    # find memberships\n",
    "    heads_r = ro.IntVector(heads)\n",
    "    memberships = list(assign_chunks_r(heads_r,chunk_type))\n",
    "    # transform labels\n",
    "    labels = draw_labels(labels)\n",
    "    # add edges\n",
    "    edges = draw_more_edges(heads)\n",
    "    # create and concatenate groups from draw_groups and memberships\n",
    "    groups = draw_more_groups(memberships)\n",
    "    \n",
    "    return var_header_1 + '\\n' + fix_header_2 + '\\n' + labels + '\\n' + fix_middle + '\\n' + edges + '\\n' + groups + '\\n' + fix_end\n",
    "\n",
    "def draw_graph(heads,labels,chunk_type):\n",
    "    var_header_1 = header_1(chunk_type)\n",
    "    # find memberships\n",
    "    heads_r = ro.IntVector(heads)\n",
    "    memberships = list(assign_chunks_r(heads_r,chunk_type))\n",
    "    # transform labels\n",
    "    labels = draw_labels(labels)\n",
    "    # add edges\n",
    "    edges = draw_more_edges(heads)\n",
    "    # create and concatenate groups from draw_groups and memberships\n",
    "    groups = draw_more_groups(memberships)\n",
    "    \n",
    "    return var_header_1 + '\\n' + fix_header_2 + '\\n' + labels + '\\n' + fix_middle + '\\n' + edges + '\\n' + groups + '\\n' + fix_end\n",
    "\n",
    "\n",
    "\n",
    "def all_arrangements(n):\n",
    "    arrs_dict = {}\n",
    "    # generate all projective arrangements\n",
    "    Gen = lal.generate.all_ulab_rooted_trees(n)\n",
    "    while not Gen.end():\n",
    "        rt = Gen.yield_tree()\n",
    "        if is_projective(rt):\n",
    "            Gen_arr = lal.generate.all_projective_arrangements(rt)\n",
    "            while not Gen_arr.end():\n",
    "                arr = Gen_arr.yield_arrangement() \n",
    "                labels = arr.inverse_as_vector()\n",
    "                heads = rt.get_head_vector(arr)\n",
    "                arrs_dict[heads] = labels\n",
    "                \n",
    "    return arrs_dict\n",
    "\n",
    "# put all in a latex file!\n",
    "fix_fig_beg    = r'\\begin{figure}[H]'\n",
    "fix_mini_beg   = r'\\begin{minipage}[b]{0.3\\textwidth} \\centering'\n",
    "fix_mini_end   = r'\\end{minipage}\\hfill'\n",
    "fix_fig_end    = r'\\end{figure}'\n",
    "\n",
    "def write_graph_to_tex(graphs,filename):\n",
    "    with open(f'graphs/{filename}.tex','w') as file:\n",
    "        file.write(graphs)\n",
    "\n",
    "def print_file(n,chunk_type):\n",
    "    # all arrangement of n\n",
    "    arr_dict = all_arrangements(n)\n",
    "    # create all graphs\n",
    "    mini_pages = []\n",
    "    for heads,labels in arr_dict.items():\n",
    "        graph = draw_graph(heads,labels,chunk_type)\n",
    "        mini_pages.append(fix_mini_beg + graph + fix_mini_end)\n",
    "    # join all graphs\n",
    "    if len(mini_pages) > 15:\n",
    "        graphs1 = '\\n'.join(mini_pages[:15])\n",
    "        graphs2 = '\\n'.join(mini_pages[15:])\n",
    "        graphs_tex = fix_fig_beg + '\\n' + graphs1 + '\\n' + fix_fig_end + '\\n' + fix_fig_beg + '\\n' + graphs2 + '\\n' + fix_fig_end\n",
    "    else:\n",
    "        graphs = '\\n'.join(mini_pages)\n",
    "        graphs_tex = fix_fig_beg + '\\n' + graphs + '\\n' + fix_fig_end\n",
    "\n",
    "    # write to latex\n",
    "    filename = str(n) + chunk_type\n",
    "    write_graph_to_tex(graphs_tex,filename)"
   ]
  },
  {
   "attachments": {},
   "cell_type": "markdown",
   "metadata": {},
   "source": [
    "All arrangements"
   ]
  },
  {
   "cell_type": "code",
   "execution_count": 4,
   "metadata": {},
   "outputs": [],
   "source": [
    "#chunk_types = ['anderson','makutec']\n",
    "#ns=[3,4]\n",
    "\n",
    "#for chunk_type in chunk_types:\n",
    "#    for n in ns:\n",
    "#        print_file(n,chunk_type)\n"
   ]
  },
  {
   "cell_type": "code",
   "execution_count": 17,
   "metadata": {},
   "outputs": [],
   "source": [
    "# example\n",
    "heads = [2, 4, 4, 0, 6, 4, 4, 7, 10, 4, 10, 11, 12, 19, 14, 15, 16, 17, 13, 23, 20, 21, 19, 26, 26, 23]\n",
    "labels = range(len(heads))\n",
    "\n",
    "\n",
    "graph = draw_graph(heads,labels,'anderson')\n",
    "filename = 'test'\n",
    "write_graph_to_tex(graph,filename)"
   ]
  },
  {
   "cell_type": "code",
   "execution_count": 18,
   "metadata": {},
   "outputs": [],
   "source": [
    "# example\n",
    "\n",
    "heads = [0,1,7,5,7,7,1,7,8,1,14,14,14,10,14,17,15]\n",
    "chunk_types = ['anderson','macutek']\n",
    "labels = 'Ask not what your country can do for you, ask what you can do for your country.'\n",
    "labels = labels.split(' ')\n",
    "\n",
    "for chunk_type in chunk_types:\n",
    "    graph = draw_graph(heads,labels,chunk_type)\n",
    "    filename = 'thisisanexample_{}'.format(chunk_type)\n",
    "    write_graph_to_tex(graph,filename)"
   ]
  },
  {
   "cell_type": "code",
   "execution_count": 21,
   "metadata": {},
   "outputs": [
    {
     "ename": "TypeError",
     "evalue": "Wrong number or type of arguments for overloaded function 'chunk_syntactic_dependency_tree'.\n  Possible C/C++ prototypes are:\n    lal::linarr::chunk_syntactic_dependency_tree(lal::graphs::rooted_tree const &,lal::linarr::algorithms_chunking const &)\n    lal::linarr::chunk_syntactic_dependency_tree(lal::graphs::rooted_tree const &,lal::linear_arrangement const &,lal::linarr::algorithms_chunking const &)\n",
     "output_type": "error",
     "traceback": [
      "\u001b[0;31m---------------------------------------------------------------------------\u001b[0m",
      "\u001b[0;31mTypeError\u001b[0m                                 Traceback (most recent call last)",
      "\u001b[0;32m<ipython-input-21-78500ee65d9f>\u001b[0m in \u001b[0;36m<module>\u001b[0;34m\u001b[0m\n\u001b[1;32m      6\u001b[0m \u001b[0;31m#labels = labels.split(' ')\u001b[0m\u001b[0;34m\u001b[0m\u001b[0;34m\u001b[0m\u001b[0;34m\u001b[0m\u001b[0m\n\u001b[1;32m      7\u001b[0m \u001b[0mrt\u001b[0m \u001b[0;34m=\u001b[0m \u001b[0mlal\u001b[0m\u001b[0;34m.\u001b[0m\u001b[0mgraphs\u001b[0m\u001b[0;34m.\u001b[0m\u001b[0mfrom_head_vector_to_rooted_tree\u001b[0m\u001b[0;34m(\u001b[0m\u001b[0mheads\u001b[0m\u001b[0;34m)\u001b[0m\u001b[0;34m\u001b[0m\u001b[0;34m\u001b[0m\u001b[0m\n\u001b[0;32m----> 8\u001b[0;31m \u001b[0mlal\u001b[0m\u001b[0;34m.\u001b[0m\u001b[0mlinarr\u001b[0m\u001b[0;34m.\u001b[0m\u001b[0mchunk_syntactic_dependency_tree\u001b[0m\u001b[0;34m(\u001b[0m\u001b[0mrt\u001b[0m\u001b[0;34m,\u001b[0m \u001b[0mlabels\u001b[0m\u001b[0;34m,\u001b[0m\u001b[0mchunk_types\u001b[0m\u001b[0;34m[\u001b[0m\u001b[0;36m0\u001b[0m\u001b[0;34m]\u001b[0m\u001b[0;34m)\u001b[0m\u001b[0;34m\u001b[0m\u001b[0;34m\u001b[0m\u001b[0m\n\u001b[0m",
      "\u001b[0;32m~/opt/anaconda3/lib/python3.8/site-packages/lal/linarr.py\u001b[0m in \u001b[0;36mchunk_syntactic_dependency_tree\u001b[0;34m(*args)\u001b[0m\n\u001b[1;32m   2207\u001b[0m \u001b[0;34m\u001b[0m\u001b[0m\n\u001b[1;32m   2208\u001b[0m     \"\"\"\n\u001b[0;32m-> 2209\u001b[0;31m     \u001b[0;32mreturn\u001b[0m \u001b[0m_linarr\u001b[0m\u001b[0;34m.\u001b[0m\u001b[0mchunk_syntactic_dependency_tree\u001b[0m\u001b[0;34m(\u001b[0m\u001b[0;34m*\u001b[0m\u001b[0margs\u001b[0m\u001b[0;34m)\u001b[0m\u001b[0;34m\u001b[0m\u001b[0;34m\u001b[0m\u001b[0m\n\u001b[0m\u001b[1;32m   2210\u001b[0m \u001b[0;34m\u001b[0m\u001b[0m\n\u001b[1;32m   2211\u001b[0m \u001b[0;32mdef\u001b[0m \u001b[0mchunk_syntactic_dependency_tree_as_sequence\u001b[0m\u001b[0;34m(\u001b[0m\u001b[0;34m*\u001b[0m\u001b[0margs\u001b[0m\u001b[0;34m)\u001b[0m \u001b[0;34m->\u001b[0m \u001b[0;34m\"lal::linarr::chunk_sequence\"\u001b[0m\u001b[0;34m:\u001b[0m\u001b[0;34m\u001b[0m\u001b[0;34m\u001b[0m\u001b[0m\n",
      "\u001b[0;31mTypeError\u001b[0m: Wrong number or type of arguments for overloaded function 'chunk_syntactic_dependency_tree'.\n  Possible C/C++ prototypes are:\n    lal::linarr::chunk_syntactic_dependency_tree(lal::graphs::rooted_tree const &,lal::linarr::algorithms_chunking const &)\n    lal::linarr::chunk_syntactic_dependency_tree(lal::graphs::rooted_tree const &,lal::linear_arrangement const &,lal::linarr::algorithms_chunking const &)\n"
     ]
    }
   ],
   "source": [
    "# Lluís Algorithm\n",
    "\n",
    "heads = [0,1,7,5,7,7,1,7,8,1,14,14,14,10,14,17,15]\n",
    "chunk_types = ['Anderson','Macutek']\n",
    "#labels = 'Ask not what your country can do for you, ask what you can do for your country.'\n",
    "#labels = labels.split(' ')\n",
    "rt = lal.graphs.from_head_vector_to_rooted_tree(heads)\n",
    "lal.linarr.chunk_syntactic_dependency_tree(rt, labels,chunk_types[0])"
   ]
  },
  {
   "cell_type": "code",
   "execution_count": null,
   "metadata": {},
   "outputs": [],
   "source": []
  },
  {
   "cell_type": "code",
   "execution_count": null,
   "metadata": {},
   "outputs": [],
   "source": []
  }
 ],
 "metadata": {
  "interpreter": {
   "hash": "90a0f26ab5e361e9bf8ebc89f017b8acb6dc036ef7070e8556f504ff8ce2a2a1"
  },
  "kernelspec": {
   "display_name": "Python 3.8.8 ('base')",
   "language": "python",
   "name": "python3"
  },
  "language_info": {
   "codemirror_mode": {
    "name": "ipython",
    "version": 3
   },
   "file_extension": ".py",
   "mimetype": "text/x-python",
   "name": "python",
   "nbconvert_exporter": "python",
   "pygments_lexer": "ipython3",
   "version": "3.8.8"
  },
  "orig_nbformat": 4
 },
 "nbformat": 4,
 "nbformat_minor": 2
}
